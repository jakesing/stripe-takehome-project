{
 "cells": [
  {
   "cell_type": "code",
   "execution_count": 19,
   "id": "873bac29-25ce-4763-a39c-b464742cc11d",
   "metadata": {},
   "outputs": [],
   "source": [
    "import pandas as pd\n",
    "\n",
    "merchants_df = pd.read_excel('dstakehome_merchants.xlsx')\n",
    "payments_df = pd.read_excel('dstakehome_payments.xlsx')"
   ]
  },
  {
   "cell_type": "code",
   "execution_count": 82,
   "id": "850e3135-b96a-451b-8a1a-4d42ad990a97",
   "metadata": {},
   "outputs": [
    {
     "name": "stdout",
     "output_type": "stream",
     "text": [
      "date                   object\n",
      "merchant               object\n",
      "subscription_volume     int64\n",
      "checkout_volume         int64\n",
      "payment_link_volume     int64\n",
      "total_volume            int64\n",
      "dtype: object\n",
      "\n",
      "Unique values in 'merchant' column:\n",
      "23620\n",
      "\n",
      "Sample values from 'merchant' column:\n",
      "92978      8647e6bc\n",
      "1369726    e8ab7038\n",
      "892127     1acbeb47\n",
      "899156     ab890044\n",
      "853799     a5b7a1e9\n",
      "Name: merchant, dtype: object\n",
      "\n",
      "Sample values from 'date' column:\n",
      "1218071    2042-03-25T00:00:00Z\n",
      "1260636    2042-04-05T00:00:00Z\n",
      "424892     2041-08-30T00:00:00Z\n",
      "858783     2041-12-23T00:00:00Z\n",
      "517664     2041-09-24T00:00:00Z\n",
      "Name: date, dtype: object\n"
     ]
    }
   ],
   "source": [
    "print(payments_df.dtypes)\n",
    "print(\"\\nUnique values in 'merchant' column:\")\n",
    "print(payments_df['merchant'].nunique())\n",
    "print(\"\\nSample values from 'merchant' column:\")\n",
    "print(payments_df['merchant'].sample(5))\n",
    "print(\"\\nSample values from 'date' column:\")\n",
    "print(payments_df['date'].sample(5))"
   ]
  },
  {
   "cell_type": "code",
   "execution_count": null,
   "id": "2290f903-7b38-4e0a-aef7-ed2dd2d1427c",
   "metadata": {},
   "outputs": [],
   "source": []
  },
  {
   "cell_type": "code",
   "execution_count": 83,
   "id": "d7dfaa8a-a6cf-454d-acc6-cc8db56c3dc0",
   "metadata": {},
   "outputs": [],
   "source": [
    "payments_df['date'] = pd.to_datetime(payments_df['date'], errors='coerce')"
   ]
  },
  {
   "cell_type": "code",
   "execution_count": 86,
   "id": "ab3bba17-e1b6-4417-ab11-5da2cf1f494e",
   "metadata": {
    "scrolled": true
   },
   "outputs": [
    {
     "name": "stdout",
     "output_type": "stream",
     "text": [
      "date                   datetime64[ns, UTC]\n",
      "merchant                            object\n",
      "subscription_volume                  int64\n",
      "checkout_volume                      int64\n",
      "payment_link_volume                  int64\n",
      "total_volume                         int64\n",
      "dtype: object\n",
      "\n",
      "Unique values in 'merchant' column:\n",
      "23620\n",
      "\n",
      "Sample values from 'merchant' column:\n",
      "854830     45950849\n",
      "756450     c8a18889\n",
      "403652     e2b5e069\n",
      "671716     62976f72\n",
      "1119959    40d6469f\n",
      "Name: merchant, dtype: object\n",
      "\n",
      "Sample values from 'date' column:\n",
      "1285159   2042-04-11 00:00:00+00:00\n",
      "740066    2041-11-23 00:00:00+00:00\n",
      "1461956   2042-05-25 00:00:00+00:00\n",
      "475936    2041-09-13 00:00:00+00:00\n",
      "142014    2041-06-10 00:00:00+00:00\n",
      "Name: date, dtype: datetime64[ns, UTC]\n"
     ]
    }
   ],
   "source": [
    "print(payments_df.dtypes)\n",
    "print(\"\\nUnique values in 'merchant' column:\")\n",
    "print(payments_df['merchant'].nunique())\n",
    "print(\"\\nSample values from 'merchant' column:\")\n",
    "print(payments_df['merchant'].sample(5))\n",
    "print(\"\\nSample values from 'date' column:\")\n",
    "print(payments_df['date'].sample(5))"
   ]
  },
  {
   "cell_type": "code",
   "execution_count": 87,
   "id": "876dd9a3-4ff3-4a2e-8fea-756fd5ba5bc3",
   "metadata": {},
   "outputs": [
    {
     "name": "stdout",
     "output_type": "stream",
     "text": [
      "Current dtype of 'merchant': object\n",
      "New dtype of 'merchant': string\n",
      "All values in 'merchant' column are valid strings.\n",
      "\n",
      "Sample values from 'merchant' column:\n",
      "475786     a8f43db2\n",
      "485635     93eaa183\n",
      "1011026    b75b2401\n",
      "212400     b44fbca4\n",
      "803717     b00345d7\n",
      "Name: merchant, dtype: string\n"
     ]
    }
   ],
   "source": [
    "# Check current dtype\n",
    "print(\"Current dtype of 'merchant':\", payments_df['merchant'].dtype)\n",
    "\n",
    "# Convert to string dtype\n",
    "payments_df['merchant'] = payments_df['merchant'].astype('string')\n",
    "\n",
    "# Check new dtype\n",
    "print(\"New dtype of 'merchant':\", payments_df['merchant'].dtype)\n",
    "\n",
    "# Check for any non-string values that might have been coerced\n",
    "non_string = payments_df[payments_df['merchant'].isna()]\n",
    "if len(non_string) > 0:\n",
    "    print(f\"Found {len(non_string)} non-string values in 'merchant' column:\")\n",
    "    print(non_string)\n",
    "else:\n",
    "    print(\"All values in 'merchant' column are valid strings.\")\n",
    "\n",
    "# Display some sample values\n",
    "print(\"\\nSample values from 'merchant' column:\")\n",
    "print(payments_df['merchant'].sample(5))"
   ]
  },
  {
   "cell_type": "code",
   "execution_count": 88,
   "id": "29f0e325-16ab-4ffb-86aa-80d25d5a9886",
   "metadata": {},
   "outputs": [],
   "source": [
    "# Count total rows\n",
    "total_rows = len(payments_df)\n",
    "\n",
    "# Count unique combinations of merchant and date\n",
    "unique_combinations = payments_df.groupby(['merchant', 'date']).size()\n",
    "total_unique_combinations = len(unique_combinations)"
   ]
  },
  {
   "cell_type": "code",
   "execution_count": 89,
   "id": "0fc0e55c-a5b1-4dc2-8d70-0d70bc7cc7e1",
   "metadata": {},
   "outputs": [
    {
     "name": "stdout",
     "output_type": "stream",
     "text": [
      "Total rows: 1577887\n",
      "Unique merchant-date combinations: 1577865\n"
     ]
    }
   ],
   "source": [
    "print(f\"Total rows: {total_rows}\")\n",
    "print(f\"Unique merchant-date combinations: {total_unique_combinations}\")"
   ]
  },
  {
   "cell_type": "code",
   "execution_count": 93,
   "id": "dc12a479-0294-4198-b889-a7f8cfd3d6b2",
   "metadata": {},
   "outputs": [
    {
     "name": "stdout",
     "output_type": "stream",
     "text": [
      "Total rows: 1577887\n",
      "Unique merchant-date combinations: 1577865\n",
      "There are duplicate merchant-date combinations.\n",
      "\n",
      "First few duplicate entries:\n",
      "                            date merchant  subscription_volume  \\\n",
      "716215 2041-11-16 00:00:00+00:00        0                    0   \n",
      "716613 2041-11-16 00:00:00+00:00        0                    0   \n",
      "798331 2041-12-07 00:00:00+00:00        0                    0   \n",
      "798746 2041-12-07 00:00:00+00:00        0                    0   \n",
      "804396 2041-12-09 00:00:00+00:00        0                    0   \n",
      "\n",
      "        checkout_volume  payment_link_volume  total_volume  \n",
      "716215                0                    0          8450  \n",
      "716613              964                    0           964  \n",
      "798331                0                    0         16550  \n",
      "798746             1426                    0          1426  \n",
      "804396                0                    0         27144  \n"
     ]
    }
   ],
   "source": [
    "try:\n",
    "    # Count total rows\n",
    "    total_rows = len(payments_df)\n",
    "\n",
    "    # Count unique combinations of merchant and date\n",
    "    unique_combinations = payments_df.groupby(['merchant', 'date']).size()\n",
    "    total_unique_combinations = len(unique_combinations)\n",
    "\n",
    "    print(f\"Total rows: {total_rows}\")\n",
    "    print(f\"Unique merchant-date combinations: {total_unique_combinations}\")\n",
    "\n",
    "    if total_rows == total_unique_combinations:\n",
    "        print(\"The payments table has one row per merchant per date.\")\n",
    "    else:\n",
    "        print(\"There are duplicate merchant-date combinations.\")\n",
    "        \n",
    "        # Find duplicates\n",
    "        duplicates = payments_df[payments_df.duplicated(['merchant', 'date'], keep=False)]\n",
    "        print(\"\\nFirst few duplicate entries:\")\n",
    "        print(duplicates.head())\n",
    "\n",
    "except Exception as e:\n",
    "    print(f\"An error occurred: {str(e)}\")\n",
    "    print(\"\\nLet's try to identify the problematic rows:\")\n",
    "    \n",
    "    for index, row in payments_df.iterrows():\n",
    "        try:\n",
    "            # Try to create a tuple of (merchant, date) for each row\n",
    "            _ = (row['merchant'], row['date'])\n",
    "        except:\n",
    "            print(f\"Problematic row at index {index}:\")\n",
    "            print(row)\n",
    "            break"
   ]
  },
  {
   "cell_type": "code",
   "execution_count": 94,
   "id": "7c03c709-6300-4ea5-bb3d-8ad6357483c3",
   "metadata": {},
   "outputs": [
    {
     "name": "stdout",
     "output_type": "stream",
     "text": [
      "\n",
      "Null values in 'merchant' column:\n",
      "Empty DataFrame\n",
      "Columns: [date, merchant, subscription_volume, checkout_volume, payment_link_volume, total_volume]\n",
      "Index: []\n",
      "\n",
      "Null values in 'date' column:\n",
      "Empty DataFrame\n",
      "Columns: [date, merchant, subscription_volume, checkout_volume, payment_link_volume, total_volume]\n",
      "Index: []\n",
      "\n",
      "Unique values in 'merchant' column:\n",
      "merchant\n",
      "dd62d56a    418\n",
      "c3942300    418\n",
      "e2df5adf    418\n",
      "64dfffd0    418\n",
      "0dcee7ff    418\n",
      "Name: count, dtype: Int64\n",
      "\n",
      "Unique values in 'date' column:\n",
      "date\n",
      "2042-06-01 00:00:00+00:00    4739\n",
      "2042-03-01 00:00:00+00:00    4671\n",
      "2041-12-01 00:00:00+00:00    4624\n",
      "2042-04-01 00:00:00+00:00    4620\n",
      "2042-02-28 00:00:00+00:00    4599\n",
      "Name: count, dtype: int64\n"
     ]
    }
   ],
   "source": [
    "print(\"\\nNull values in 'merchant' column:\")\n",
    "print(payments_df[payments_df['merchant'].isnull()])\n",
    "\n",
    "print(\"\\nNull values in 'date' column:\")\n",
    "print(payments_df[payments_df['date'].isnull()])\n",
    "\n",
    "print(\"\\nUnique values in 'merchant' column:\")\n",
    "print(payments_df['merchant'].value_counts().head())\n",
    "\n",
    "print(\"\\nUnique values in 'date' column:\")\n",
    "print(payments_df['date'].value_counts().head())"
   ]
  },
  {
   "cell_type": "code",
   "execution_count": 95,
   "id": "c248b972-1173-4e6f-8bcc-807f4ffd0d50",
   "metadata": {},
   "outputs": [
    {
     "name": "stdout",
     "output_type": "stream",
     "text": [
      "Number of rows with merchant ID '0': 150\n"
     ]
    }
   ],
   "source": [
    "zero_merchant_count = (payments_df['merchant'] == '0').sum()\n",
    "print(f\"Number of rows with merchant ID '0': {zero_merchant_count}\")"
   ]
  },
  {
   "cell_type": "code",
   "execution_count": 97,
   "id": "b2862159-bac6-4b67-ad4b-fd2c860a2c65",
   "metadata": {},
   "outputs": [
    {
     "name": "stdout",
     "output_type": "stream",
     "text": [
      "Sample of rows with merchant ID '0':\n",
      "                             date merchant  subscription_volume  \\\n",
      "1410435 2042-05-12 00:00:00+00:00        0                    0   \n",
      "701936  2041-11-12 00:00:00+00:00        0                    0   \n",
      "1500051 2042-06-03 00:00:00+00:00        0                    0   \n",
      "1459627 2042-05-24 00:00:00+00:00        0                    0   \n",
      "1017929 2042-02-03 00:00:00+00:00        0                    0   \n",
      "1391408 2042-05-07 00:00:00+00:00        0                    0   \n",
      "1068741 2042-02-16 00:00:00+00:00        0                    0   \n",
      "1107765 2042-02-26 00:00:00+00:00        0                    0   \n",
      "1019154 2042-02-04 00:00:00+00:00        0                    0   \n",
      "1192997 2042-03-19 00:00:00+00:00        0                    0   \n",
      "1565653 2042-06-19 00:00:00+00:00        0                    0   \n",
      "779108  2041-12-02 00:00:00+00:00        0                    0   \n",
      "1302660 2042-04-15 00:00:00+00:00        0                 1003   \n",
      "671486  2041-11-04 00:00:00+00:00        0                    0   \n",
      "1516308 2042-06-07 00:00:00+00:00        0                    0   \n",
      "\n",
      "         checkout_volume  payment_link_volume  total_volume  \n",
      "1410435                0                    0          3655  \n",
      "701936               487                    0           487  \n",
      "1500051                0                    0          9603  \n",
      "1459627                0                    0           527  \n",
      "1017929                0                    0         12484  \n",
      "1391408                0                    0          1084  \n",
      "1068741                0                    0          9351  \n",
      "1107765                0                    0          8105  \n",
      "1019154                0                    0         27940  \n",
      "1192997                0                    0          6584  \n",
      "1565653                0                    0           111  \n",
      "779108              5160                    0          5160  \n",
      "1302660             1003                    0          1003  \n",
      "671486               487                    0           487  \n",
      "1516308                0                    0          1150  \n"
     ]
    }
   ],
   "source": [
    "print(\"Sample of rows with merchant ID '0':\")\n",
    "print(payments_df[payments_df['merchant'] == '0'].sample(15))"
   ]
  },
  {
   "cell_type": "code",
   "execution_count": 98,
   "id": "fda02bfc-1096-4b00-a8b3-e94a2bfed6f1",
   "metadata": {},
   "outputs": [
    {
     "name": "stdout",
     "output_type": "stream",
     "text": [
      "Total duplicate rows: 42\n",
      "Duplicate rows with merchant ID '0': 42\n"
     ]
    }
   ],
   "source": [
    "# Count duplicates\n",
    "duplicates = payments_df[payments_df.duplicated(['merchant', 'date'], keep=False)]\n",
    "zero_merchant_duplicates = duplicates[duplicates['merchant'] == '0']\n",
    "\n",
    "print(f\"Total duplicate rows: {len(duplicates)}\")\n",
    "print(f\"Duplicate rows with merchant ID '0': {len(zero_merchant_duplicates)}\")"
   ]
  },
  {
   "cell_type": "code",
   "execution_count": 100,
   "id": "aa9a00b4-7eb5-4ba1-ab7a-f950aa4a8b0e",
   "metadata": {},
   "outputs": [
    {
     "name": "stdout",
     "output_type": "stream",
     "text": [
      "Total rows: 1577887\n",
      "Rows with merchant ID '0': 150\n",
      "Percentage of '0' merchant rows: 0.01%\n",
      "\n",
      "Total volume: $565,343,271,651.00\n",
      "'0' merchant volume: $2,810,840.00\n",
      "Percentage of volume from '0' merchants: 0.00%\n",
      "\n",
      "Total subscription volume: $61,928,378,569.00\n",
      "'0' merchant subscription volume: $11,832.00\n",
      "Percentage of subscription volume from '0' merchants: 0.00%\n"
     ]
    }
   ],
   "source": [
    "total_rows = len(payments_df)\n",
    "zero_merchant_rows = payments_df[payments_df['merchant'] == '0']\n",
    "zero_merchant_count = len(zero_merchant_rows)\n",
    "\n",
    "print(f\"Total rows: {total_rows}\")\n",
    "print(f\"Rows with merchant ID '0': {zero_merchant_count}\")\n",
    "print(f\"Percentage of '0' merchant rows: {zero_merchant_count / total_rows * 100:.2f}%\")\n",
    "\n",
    "# Calculate total volume and '0' merchant volume\n",
    "total_volume = payments_df['total_volume'].sum()\n",
    "zero_merchant_volume = zero_merchant_rows['total_volume'].sum()\n",
    "\n",
    "print(f\"\\nTotal volume: ${total_volume:,.2f}\")\n",
    "print(f\"'0' merchant volume: ${zero_merchant_volume:,.2f}\")\n",
    "print(f\"Percentage of volume from '0' merchants: {zero_merchant_volume / total_volume * 100:.2f}%\")\n",
    "\n",
    "# Check subscription volume specifically\n",
    "total_sub_volume = payments_df['subscription_volume'].sum()\n",
    "zero_merchant_sub_volume = zero_merchant_rows['subscription_volume'].sum()\n",
    "\n",
    "print(f\"\\nTotal subscription volume: ${total_sub_volume:,.2f}\")\n",
    "print(f\"'0' merchant subscription volume: ${zero_merchant_sub_volume:,.2f}\")\n",
    "print(f\"Percentage of subscription volume from '0' merchants: {zero_merchant_sub_volume / total_sub_volume * 100:.2f}%\")"
   ]
  },
  {
   "cell_type": "code",
   "execution_count": 103,
   "id": "d9b7823b-3509-46a0-9491-ca9df2bd678d",
   "metadata": {},
   "outputs": [
    {
     "name": "stdout",
     "output_type": "stream",
     "text": [
      "\n",
      "Distribution of '0' merchant volume over time:\n",
      "date\n",
      "2041-06      16874\n",
      "2041-07      47997\n",
      "2041-08      14763\n",
      "2041-09      31989\n",
      "2041-10      54120\n",
      "2041-11      57095\n",
      "2041-12     535114\n",
      "2042-01     395677\n",
      "2042-02      90453\n",
      "2042-03      48666\n",
      "2042-04    1308371\n",
      "2042-05     125372\n",
      "2042-06      84349\n",
      "Freq: M, Name: total_volume, dtype: int64\n"
     ]
    },
    {
     "name": "stderr",
     "output_type": "stream",
     "text": [
      "/var/folders/6v/krkkscy96z71j1kl2mlb09bm0000gn/T/ipykernel_4531/3100396597.py:1: UserWarning: Converting to PeriodArray/Index representation will drop timezone information.\n",
      "  zero_merchant_time_dist = zero_merchant_rows.groupby(zero_merchant_rows['date'].dt.to_period('M'))['total_volume'].sum()\n"
     ]
    }
   ],
   "source": [
    "zero_merchant_time_dist = zero_merchant_rows.groupby(zero_merchant_rows['date'].dt.to_period('M'))['total_volume'].sum()\n",
    "\n",
    "print(\"\\nDistribution of '0' merchant volume over time:\")\n",
    "print(zero_merchant_time_dist)"
   ]
  },
  {
   "cell_type": "code",
   "execution_count": 104,
   "id": "48a67ca0-6f8b-4f06-8941-4bf9f079ffe3",
   "metadata": {},
   "outputs": [
    {
     "name": "stdout",
     "output_type": "stream",
     "text": [
      "\n",
      "Summary statistics for '0' merchant rows:\n",
      "       subscription_volume  checkout_volume  payment_link_volume  \\\n",
      "count           150.000000       150.000000           150.000000   \n",
      "mean             78.880000      1221.373333          1755.600000   \n",
      "std             268.437635      8316.125080         20415.595392   \n",
      "min               0.000000         0.000000             0.000000   \n",
      "25%               0.000000         0.000000             0.000000   \n",
      "50%               0.000000         0.000000             0.000000   \n",
      "75%               0.000000         0.000000             0.000000   \n",
      "max            1007.000000    100000.000000        250000.000000   \n",
      "\n",
      "        total_volume  \n",
      "count     150.000000  \n",
      "mean    18738.933333  \n",
      "std     71688.339181  \n",
      "min        45.000000  \n",
      "25%       965.500000  \n",
      "50%      3418.500000  \n",
      "75%      9453.750000  \n",
      "max    580474.000000  \n",
      "\n",
      "Unique values in other columns for '0' merchant rows:\n",
      "checkout_volume: 34\n",
      "payment_link_volume: 5\n"
     ]
    }
   ],
   "source": [
    "print(\"\\nSummary statistics for '0' merchant rows:\")\n",
    "print(zero_merchant_rows.describe())\n",
    "\n",
    "print(\"\\nUnique values in other columns for '0' merchant rows:\")\n",
    "for column in zero_merchant_rows.columns:\n",
    "    if column not in ['date', 'merchant', 'total_volume', 'subscription_volume']:\n",
    "        print(f\"{column}: {zero_merchant_rows[column].nunique()}\")"
   ]
  },
  {
   "cell_type": "code",
   "execution_count": 105,
   "id": "2e7ab6c1-f7a3-4f0f-8632-5635ea6ece6b",
   "metadata": {},
   "outputs": [
    {
     "name": "stdout",
     "output_type": "stream",
     "text": [
      "Justification for removing '0' merchant rows:\n",
      "- Percentage of '0' merchant rows: 0.01%\n",
      "- Percentage of total volume from '0' merchants: 0.00%\n",
      "- Percentage of subscription volume from '0' merchants: 0.00%\n"
     ]
    }
   ],
   "source": [
    "total_rows = len(payments_df)\n",
    "zero_merchant_rows = payments_df[payments_df['merchant'] == '0']\n",
    "zero_merchant_count = len(zero_merchant_rows)\n",
    "\n",
    "total_volume = payments_df['total_volume'].sum()\n",
    "zero_merchant_volume = zero_merchant_rows['total_volume'].sum()\n",
    "\n",
    "total_sub_volume = payments_df['subscription_volume'].sum()\n",
    "zero_merchant_sub_volume = zero_merchant_rows['subscription_volume'].sum()\n",
    "\n",
    "print(\"Justification for removing '0' merchant rows:\")\n",
    "print(f\"- Percentage of '0' merchant rows: {zero_merchant_count / total_rows * 100:.2f}%\")\n",
    "print(f\"- Percentage of total volume from '0' merchants: {zero_merchant_volume / total_volume * 100:.2f}%\")\n",
    "print(f\"- Percentage of subscription volume from '0' merchants: {zero_merchant_sub_volume / total_sub_volume * 100:.2f}%\")"
   ]
  },
  {
   "cell_type": "code",
   "execution_count": 106,
   "id": "eeb469a1-1cc4-46cc-97a1-e0da3b0ed310",
   "metadata": {},
   "outputs": [
    {
     "name": "stdout",
     "output_type": "stream",
     "text": [
      "\n",
      "Original number of rows: 1577887\n",
      "Number of rows after cleaning: 1577737\n",
      "Number of rows removed: 150\n",
      "Remaining '0' merchant rows: 0\n"
     ]
    }
   ],
   "source": [
    "# Remove the '0' merchant rows\n",
    "payments_df_cleaned = payments_df[payments_df['merchant'] != '0']\n",
    "\n",
    "# Verify the removal\n",
    "print(f\"\\nOriginal number of rows: {len(payments_df)}\")\n",
    "print(f\"Number of rows after cleaning: {len(payments_df_cleaned)}\")\n",
    "print(f\"Number of rows removed: {len(payments_df) - len(payments_df_cleaned)}\")\n",
    "\n",
    "# Check if there are any remaining '0' merchant rows\n",
    "remaining_zero = payments_df_cleaned[payments_df_cleaned['merchant'] == '0']\n",
    "print(f\"Remaining '0' merchant rows: {len(remaining_zero)}\")"
   ]
  },
  {
   "cell_type": "code",
   "execution_count": 107,
   "id": "8118b54a-889d-4874-a3ab-ebe35cf4db53",
   "metadata": {},
   "outputs": [
    {
     "name": "stdout",
     "output_type": "stream",
     "text": [
      "\n",
      "Number of duplicate rows after cleaning: 0\n",
      "No duplicates remain. Each row now represents a unique merchant-date combination.\n"
     ]
    }
   ],
   "source": [
    "duplicates = payments_df_cleaned[payments_df_cleaned.duplicated(['merchant', 'date'], keep=False)]\n",
    "print(f\"\\nNumber of duplicate rows after cleaning: {len(duplicates)}\")\n",
    "\n",
    "if len(duplicates) > 0:\n",
    "    print(\"Sample of remaining duplicates:\")\n",
    "    print(duplicates.head())\n",
    "else:\n",
    "    print(\"No duplicates remain. Each row now represents a unique merchant-date combination.\")"
   ]
  },
  {
   "cell_type": "code",
   "execution_count": 108,
   "id": "c24613d9-9843-4de0-8979-f024f69585a3",
   "metadata": {},
   "outputs": [
    {
     "name": "stdout",
     "output_type": "stream",
     "text": [
      "\n",
      "Impact on key metrics:\n",
      "Total volume before cleaning: $565,343,271,651.00\n",
      "Total volume after cleaning: $565,340,460,811.00\n",
      "Subscription volume before cleaning: $61,928,378,569.00\n",
      "Subscription volume after cleaning: $61,928,366,737.00\n"
     ]
    }
   ],
   "source": [
    "print(\"\\nImpact on key metrics:\")\n",
    "print(f\"Total volume before cleaning: ${payments_df['total_volume'].sum():,.2f}\")\n",
    "print(f\"Total volume after cleaning: ${payments_df_cleaned['total_volume'].sum():,.2f}\")\n",
    "print(f\"Subscription volume before cleaning: ${payments_df['subscription_volume'].sum():,.2f}\")\n",
    "print(f\"Subscription volume after cleaning: ${payments_df_cleaned['subscription_volume'].sum():,.2f}\")"
   ]
  },
  {
   "cell_type": "code",
   "execution_count": 109,
   "id": "f4a1a0cf-6f3b-43b0-9173-2b5cb41b41df",
   "metadata": {},
   "outputs": [
    {
     "name": "stdout",
     "output_type": "stream",
     "text": [
      "Unique merchants in payments table: 23619\n",
      "Unique merchants in merchants table: 23620\n"
     ]
    }
   ],
   "source": [
    "payment_merchants = set(payments_df_cleaned['merchant'].unique())\n",
    "merchant_table_merchants = set(merchants_df['merchant'].unique())\n",
    "\n",
    "print(f\"Unique merchants in payments table: {len(payment_merchants)}\")\n",
    "print(f\"Unique merchants in merchants table: {len(merchant_table_merchants)}\")"
   ]
  },
  {
   "cell_type": "code",
   "execution_count": 110,
   "id": "98477724-0d2d-4fc2-a227-ff8dd8f75c72",
   "metadata": {},
   "outputs": [
    {
     "name": "stdout",
     "output_type": "stream",
     "text": [
      "\n",
      "Merchants in payments table but not in merchants table: 689\n",
      "Merchants in merchants table but not in payments table: 690\n"
     ]
    }
   ],
   "source": [
    "merchants_only_in_payments = payment_merchants - merchant_table_merchants\n",
    "merchants_only_in_merchant_table = merchant_table_merchants - payment_merchants\n",
    "\n",
    "print(f\"\\nMerchants in payments table but not in merchants table: {len(merchants_only_in_payments)}\")\n",
    "print(f\"Merchants in merchants table but not in payments table: {len(merchants_only_in_merchant_table)}\")"
   ]
  },
  {
   "cell_type": "code",
   "execution_count": 111,
   "id": "1e215b85-166c-46b8-9330-e34b5280af30",
   "metadata": {},
   "outputs": [
    {
     "name": "stdout",
     "output_type": "stream",
     "text": [
      "\n",
      "Sample merchants in payments but not in merchants table:\n",
      "['13649815', '429700000000000033578379137000320443244594870561828764749637851393581339070286201233888783118955277610626772368702317106840268086932214340132827276337478039606687546398669005752219082326621908104880554298720578434112369694081024', '9137276', '92736081', '4538900000']\n",
      "\n",
      "Sample merchants in merchants table but not in payments:\n",
      "[0, 6754900000000000, 138239999999999997103645080345472474241398500574124767330959986316629469983527064968800239616, 33115000000000000317836737631730986585282755649358266368, 63467523]\n"
     ]
    }
   ],
   "source": [
    "print(\"\\nSample merchants in payments but not in merchants table:\")\n",
    "print(list(merchants_only_in_payments)[:5] if merchants_only_in_payments else \"None\")\n",
    "\n",
    "print(\"\\nSample merchants in merchants table but not in payments:\")\n",
    "print(list(merchants_only_in_merchant_table)[:5] if merchants_only_in_merchant_table else \"None\")"
   ]
  },
  {
   "cell_type": "code",
   "execution_count": 112,
   "id": "ee225199-0c68-4656-8f2a-146d4b9f126e",
   "metadata": {},
   "outputs": [
    {
     "name": "stdout",
     "output_type": "stream",
     "text": [
      "\n",
      "Total volume from merchants missing in merchants table: $5,040,473,294.00\n",
      "Percentage of total volume: 0.89%\n"
     ]
    }
   ],
   "source": [
    "if merchants_only_in_payments:\n",
    "    missing_merchants_volume = payments_df_cleaned[payments_df_cleaned['merchant'].isin(merchants_only_in_payments)]\n",
    "    total_volume_missing = missing_merchants_volume['total_volume'].sum()\n",
    "    total_volume_all = payments_df_cleaned['total_volume'].sum()\n",
    "    \n",
    "    print(f\"\\nTotal volume from merchants missing in merchants table: ${total_volume_missing:,.2f}\")\n",
    "    print(f\"Percentage of total volume: {(total_volume_missing / total_volume_all) * 100:.2f}%\")"
   ]
  },
  {
   "cell_type": "code",
   "execution_count": 113,
   "id": "7afa7860-142d-40bd-b499-3cc68a7e54f3",
   "metadata": {},
   "outputs": [
    {
     "name": "stdout",
     "output_type": "stream",
     "text": [
      "\n",
      "Characteristics of merchants without payments:\n",
      "industry\n",
      "Business services                                           100\n",
      "Personal services                                            58\n",
      "Software                                                     57\n",
      "Merchandise                                                  57\n",
      "Others                                                       49\n",
      "Clothing & accessory                                         47\n",
      "Food & drink                                                 45\n",
      "Digital goods                                                44\n",
      "Education                                                    40\n",
      "Religion, politics & other memberships                       28\n",
      "Travel & lodging                                             24\n",
      "Grocery & food stores                                        17\n",
      "Medical services, drugs, testing labs & equipment medium     15\n",
      "Art & photography                                            15\n",
      "Charity                                                      13\n",
      "Furnishing                                                   12\n",
      "Specialty retail                                             10\n",
      "Ticketing & events                                           10\n",
      "Leisure                                                       9\n",
      "Automotive parts and repair/service shops                     8\n",
      "Healthcare                                                    8\n",
      "Construction                                                  8\n",
      "Cosmetics                                                     7\n",
      "Rentals                                                       5\n",
      "Electronics                                                   5\n",
      "Transportation & car rental                                   5\n",
      "Consulting services                                           1\n",
      "Name: count, dtype: int64\n",
      "\n",
      "First charge date range:\n",
      "count                           697\n",
      "unique                          547\n",
      "top       2041-10-02 00:00:00+00:00\n",
      "freq                              4\n",
      "Name: first_charge_date, dtype: object\n"
     ]
    }
   ],
   "source": [
    "if merchants_only_in_merchant_table:\n",
    "    merchants_without_payments = merchants_df[merchants_df['merchant'].isin(merchants_only_in_merchant_table)]\n",
    "    print(\"\\nCharacteristics of merchants without payments:\")\n",
    "    print(merchants_without_payments['industry'].value_counts())\n",
    "    print(\"\\nFirst charge date range:\")\n",
    "    print(merchants_without_payments['first_charge_date'].describe())"
   ]
  }
 ],
 "metadata": {
  "kernelspec": {
   "display_name": "Python 3 (ipykernel)",
   "language": "python",
   "name": "python3"
  },
  "language_info": {
   "codemirror_mode": {
    "name": "ipython",
    "version": 3
   },
   "file_extension": ".py",
   "mimetype": "text/x-python",
   "name": "python",
   "nbconvert_exporter": "python",
   "pygments_lexer": "ipython3",
   "version": "3.12.4"
  }
 },
 "nbformat": 4,
 "nbformat_minor": 5
}
